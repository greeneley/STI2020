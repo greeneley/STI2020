{
 "cells": [
  {
   "cell_type": "markdown",
   "metadata": {},
   "source": [
    "# Running and analysing an queue with a custom discrete service distribution"
   ]
  },
  {
   "cell_type": "code",
   "execution_count": 1,
   "metadata": {
    "collapsed": true
   },
   "outputs": [],
   "source": [
    "import ciw"
   ]
  },
  {
   "cell_type": "code",
   "execution_count": 2,
   "metadata": {
    "collapsed": true
   },
   "outputs": [],
   "source": [
    "assert ciw.__version__ == '1.1.5'"
   ]
  },
  {
   "cell_type": "markdown",
   "metadata": {},
   "source": [
    "### First define a custom PDF:: return 10 with probability 0.5, 2 with probability 0.3, and 1 with probability 0.2"
   ]
  },
  {
   "cell_type": "code",
   "execution_count": 3,
   "metadata": {
    "collapsed": true
   },
   "outputs": [],
   "source": [
    "custom_values = [10.0, 2.0, 1.0]\n",
    "custom_probabilities = [0.5, 0.3, 0.2]"
   ]
  },
  {
   "cell_type": "markdown",
   "metadata": {},
   "source": [
    "### Now define the network"
   ]
  },
  {
   "cell_type": "code",
   "execution_count": 4,
   "metadata": {},
   "outputs": [],
   "source": [
    "N = ciw.create_network(\n",
    "    Arrival_distributions=[['Exponential', 5.0]],\n",
    "    Service_distributions=[['Custom', custom_values, custom_probabilities]],\n",
    "    Number_of_servers=[1]\n",
    ")"
   ]
  },
  {
   "cell_type": "markdown",
   "metadata": {},
   "source": [
    "### Create and run the simulation"
   ]
  },
  {
   "cell_type": "code",
   "execution_count": 5,
   "metadata": {},
   "outputs": [],
   "source": [
    "ciw.seed(0)\n",
    "Q = ciw.Simulation(N, exact=26)  # Implement exact arithmetic to illustrate set of outcomes (avoid floating point messiness)\n",
    "Q.simulate_until_max_time(1000)"
   ]
  },
  {
   "cell_type": "markdown",
   "metadata": {},
   "source": [
    "### Lets check the records to see if all the service times match the custom pdf"
   ]
  },
  {
   "cell_type": "code",
   "execution_count": 6,
   "metadata": {
    "collapsed": true
   },
   "outputs": [],
   "source": [
    "recs = Q.get_all_records()"
   ]
  },
  {
   "cell_type": "code",
   "execution_count": 7,
   "metadata": {},
   "outputs": [],
   "source": [
    "service_times = [r.service_time for r in recs]"
   ]
  },
  {
   "cell_type": "code",
   "execution_count": 8,
   "metadata": {},
   "outputs": [
    {
     "name": "stdout",
     "output_type": "stream",
     "text": [
      "{Decimal('1.0000000000000000'), Decimal('2.0000000000000000'), Decimal('10.0000000000000000')}\n"
     ]
    }
   ],
   "source": [
    "print(set(service_times))"
   ]
  },
  {
   "cell_type": "code",
   "execution_count": 9,
   "metadata": {},
   "outputs": [
    {
     "name": "stdout",
     "output_type": "stream",
     "text": [
      "A service time of 1.0 was sampled for proportion: 0.2222222222222222\n",
      "A service time of 2.0 was sampled for proportion: 0.27485380116959063\n",
      "A service time of 10.0 was sampled for proportion: 0.5029239766081871\n"
     ]
    }
   ],
   "source": [
    "print(\"A service time of 1.0 was sampled for proportion: \" + str(len([s for s in service_times if s==1.0])/len(service_times)))\n",
    "print(\"A service time of 2.0 was sampled for proportion: \" + str(len([s for s in service_times if s==2.0])/len(service_times)))\n",
    "print(\"A service time of 10.0 was sampled for proportion: \" + str(len([s for s in service_times if s==10.0])/len(service_times)))"
   ]
  },
  {
   "cell_type": "code",
   "execution_count": null,
   "metadata": {
    "collapsed": true
   },
   "outputs": [],
   "source": []
  }
 ],
 "metadata": {
  "kernelspec": {
   "display_name": "Python 3",
   "language": "python",
   "name": "python3"
  },
  "language_info": {
   "codemirror_mode": {
    "name": "ipython",
    "version": 3
   },
   "file_extension": ".py",
   "mimetype": "text/x-python",
   "name": "python",
   "nbconvert_exporter": "python",
   "pygments_lexer": "ipython3",
   "version": "3.5.1"
  }
 },
 "nbformat": 4,
 "nbformat_minor": 1
}
