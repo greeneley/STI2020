{
 "cells": [
  {
   "cell_type": "markdown",
   "metadata": {},
   "source": [
    "# Running and analysing an M/M/1 queue with Ciw"
   ]
  },
  {
   "cell_type": "markdown",
   "metadata": {},
   "source": [
    "### Import Ciw"
   ]
  },
  {
   "cell_type": "code",
   "execution_count": 1,
   "metadata": {
    "collapsed": true
   },
   "outputs": [],
   "source": [
    "import ciw"
   ]
  },
  {
   "cell_type": "markdown",
   "metadata": {},
   "source": [
    "(ensure latest version of Ciw)"
   ]
  },
  {
   "cell_type": "code",
   "execution_count": 2,
   "metadata": {
    "collapsed": true
   },
   "outputs": [],
   "source": [
    "assert ciw.__version__ == '1.1.5'"
   ]
  },
  {
   "cell_type": "markdown",
   "metadata": {},
   "source": [
    "### First define the and create a Network object"
   ]
  },
  {
   "cell_type": "code",
   "execution_count": 3,
   "metadata": {
    "collapsed": true
   },
   "outputs": [],
   "source": [
    "N = ciw.create_network(\n",
    "    Arrival_distributions=[['Exponential', 3.0]],\n",
    "    Service_distributions=[['Exponential', 5.0]],\n",
    "    Number_of_servers=[1]\n",
    ")"
   ]
  },
  {
   "cell_type": "markdown",
   "metadata": {},
   "source": [
    "### Now create a Simulation object, and simulate for 1000 time units"
   ]
  },
  {
   "cell_type": "code",
   "execution_count": 4,
   "metadata": {
    "collapsed": true
   },
   "outputs": [],
   "source": [
    "ciw.seed(0)\n",
    "Q = ciw.Simulation(N)"
   ]
  },
  {
   "cell_type": "code",
   "execution_count": 5,
   "metadata": {
    "collapsed": true
   },
   "outputs": [],
   "source": [
    "max_sim_time = 1000\n",
    "Q.simulate_until_max_time(max_sim_time)"
   ]
  },
  {
   "cell_type": "markdown",
   "metadata": {},
   "source": [
    "### Before analysing results, let's compute what the expected wait and expected queue length should be, according to standard queueing theory"
   ]
  },
  {
   "cell_type": "code",
   "execution_count": 6,
   "metadata": {
    "collapsed": true
   },
   "outputs": [],
   "source": [
    "traffic_intensity = 3.0 / 5.0"
   ]
  },
  {
   "cell_type": "code",
   "execution_count": 7,
   "metadata": {},
   "outputs": [
    {
     "name": "stdout",
     "output_type": "stream",
     "text": [
      "1.4999999999999998\n"
     ]
    }
   ],
   "source": [
    "expected_queue_length = traffic_intensity / (1 - traffic_intensity)\n",
    "print(expected_queue_length)"
   ]
  },
  {
   "cell_type": "code",
   "execution_count": 8,
   "metadata": {},
   "outputs": [
    {
     "name": "stdout",
     "output_type": "stream",
     "text": [
      "0.29999999999999993\n"
     ]
    }
   ],
   "source": [
    "expected_waiting_time = expected_queue_length / 5.0\n",
    "print(expected_waiting_time)"
   ]
  },
  {
   "cell_type": "markdown",
   "metadata": {},
   "source": [
    "### Let's find the mean waiting time of the simulation"
   ]
  },
  {
   "cell_type": "code",
   "execution_count": 9,
   "metadata": {
    "collapsed": true
   },
   "outputs": [],
   "source": [
    "warmup = 200"
   ]
  },
  {
   "cell_type": "code",
   "execution_count": 10,
   "metadata": {
    "collapsed": true
   },
   "outputs": [],
   "source": [
    "recs = Q.get_all_records()"
   ]
  },
  {
   "cell_type": "code",
   "execution_count": 11,
   "metadata": {},
   "outputs": [
    {
     "name": "stdout",
     "output_type": "stream",
     "text": [
      "0.26793656400165083\n"
     ]
    }
   ],
   "source": [
    "waits = [r.waiting_time for r in recs if r.arrival_date > warmup]\n",
    "simulation_mean_wait = sum(waits)/len(waits)\n",
    "print(simulation_mean_wait)"
   ]
  },
  {
   "cell_type": "markdown",
   "metadata": {},
   "source": [
    "### Now finding average queue length is more involved... "
   ]
  },
  {
   "cell_type": "code",
   "execution_count": 12,
   "metadata": {
    "collapsed": true
   },
   "outputs": [],
   "source": [
    "def mean_queue_length(recs, max_sim_time, warm_up):\n",
    "    arrival_time_stamps = [(r.arrival_date, r.queue_size_at_arrival + 1) for r in recs]\n",
    "    exit_time_stamps = [(r.exit_date, r.queue_size_at_departure) for r in recs]\n",
    "    time_stamps = arrival_time_stamps + exit_time_stamps + [(0, 0)]\n",
    "    time_stamps.sort(key=lambda r: r[0])\n",
    "    numerator = sum([time_stamps[i][1] * (time_stamps[i][0] - time_stamps[i - 1][0]) for i in range(1, len(time_stamps)) if time_stamps[i][0] > warm_up])\n",
    "    mean_queue_length = numerator / (max_sim_time - warm_up)\n",
    "    return mean_queue_length"
   ]
  },
  {
   "cell_type": "code",
   "execution_count": 13,
   "metadata": {},
   "outputs": [
    {
     "name": "stdout",
     "output_type": "stream",
     "text": [
      "1.6301674223750484\n"
     ]
    }
   ],
   "source": [
    "simulation_mean_queue_length = mean_queue_length(recs, max_sim_time, warmup)\n",
    "print(simulation_mean_queue_length)"
   ]
  },
  {
   "cell_type": "markdown",
   "metadata": {},
   "source": [
    "### Finally let's compare the analytical resutls to the simulation results"
   ]
  },
  {
   "cell_type": "code",
   "execution_count": 14,
   "metadata": {},
   "outputs": [
    {
     "name": "stdout",
     "output_type": "stream",
     "text": [
      "Analytical mean waiting time: 0.29999999999999993\n",
      "Simulation mean waiting time: 0.26793656400165083\n"
     ]
    }
   ],
   "source": [
    "print(\"Analytical mean waiting time: \" + str(expected_waiting_time))\n",
    "print(\"Simulation mean waiting time: \" + str(simulation_mean_wait))"
   ]
  },
  {
   "cell_type": "code",
   "execution_count": 15,
   "metadata": {},
   "outputs": [
    {
     "name": "stdout",
     "output_type": "stream",
     "text": [
      "Analytical mean queue length: 1.4999999999999998\n",
      "Simulation mean queue length: 1.6301674223750484\n"
     ]
    }
   ],
   "source": [
    "print(\"Analytical mean queue length: \" + str(expected_queue_length))\n",
    "print(\"Simulation mean queue length: \" + str(simulation_mean_queue_length))"
   ]
  },
  {
   "cell_type": "code",
   "execution_count": null,
   "metadata": {
    "collapsed": true
   },
   "outputs": [],
   "source": []
  },
  {
   "cell_type": "code",
   "execution_count": null,
   "metadata": {
    "collapsed": true
   },
   "outputs": [],
   "source": []
  }
 ],
 "metadata": {
  "kernelspec": {
   "display_name": "Python 3",
   "language": "python",
   "name": "python3"
  },
  "language_info": {
   "codemirror_mode": {
    "name": "ipython",
    "version": 3
   },
   "file_extension": ".py",
   "mimetype": "text/x-python",
   "name": "python",
   "nbconvert_exporter": "python",
   "pygments_lexer": "ipython3",
   "version": "3.6.4"
  }
 },
 "nbformat": 4,
 "nbformat_minor": 1
}
