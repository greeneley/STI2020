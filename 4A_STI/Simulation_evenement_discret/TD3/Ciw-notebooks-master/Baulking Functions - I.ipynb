{
 "cells": [
  {
   "cell_type": "markdown",
   "metadata": {},
   "source": [
    "# Baulking Functions - I"
   ]
  },
  {
   "cell_type": "markdown",
   "metadata": {},
   "source": [
    "### This notebook will illustrate a simple deterministic example, designed to show the difference between baulking and queueing capacities"
   ]
  },
  {
   "cell_type": "code",
   "execution_count": 1,
   "metadata": {
    "collapsed": true
   },
   "outputs": [],
   "source": [
    "import ciw"
   ]
  },
  {
   "cell_type": "markdown",
   "metadata": {},
   "source": [
    "(ensure latest version of Ciw)"
   ]
  },
  {
   "cell_type": "code",
   "execution_count": 2,
   "metadata": {
    "collapsed": true
   },
   "outputs": [],
   "source": [
    "assert ciw.__version__ == '1.1.5'"
   ]
  },
  {
   "cell_type": "code",
   "execution_count": 3,
   "metadata": {
    "collapsed": true
   },
   "outputs": [],
   "source": [
    "def my_baulking_function(n):\n",
    "    if n < 3:\n",
    "        return 0.0\n",
    "    return 1.0"
   ]
  },
  {
   "cell_type": "code",
   "execution_count": 4,
   "metadata": {
    "collapsed": true
   },
   "outputs": [],
   "source": [
    "N = ciw.create_network(\n",
    "    Arrival_distributions=[['Deterministic', 5.0], ['Deterministic', 23.0]],\n",
    "    Service_distributions=[['Deterministic', 21.0], ['Deterministic', 1.5]],\n",
    "    Transition_matrices=[[0.0, 0.0], [1.0, 0.0]],\n",
    "    Number_of_servers=[1, 1],\n",
    "    Baulking_functions=[my_baulking_function, None]\n",
    ")"
   ]
  },
  {
   "cell_type": "markdown",
   "metadata": {},
   "source": [
    "### Now if we run this to time t=48, we will get the following chain of events:"
   ]
  },
  {
   "cell_type": "markdown",
   "metadata": {},
   "source": [
    "| Time | Queue Node 1 | In Service Node 1 | Queue Node 2 | In Service Node 2 | Customer Finished a Service | Baulked Customers |\n",
    "|------|--------------|-------------------|--------------|-------------------|-----------------------------|-------------------|\n",
    "| 0    |              |                   |              |                   |                             |                   |\n",
    "| 5    |              | 1                 |              |                   |                             |                   |\n",
    "| 10   | 2            | 1                 |              |                   |                             |                   |\n",
    "| 15   | 3, 2         | 1                 |              |                   |                             |                   |\n",
    "| 20   | 3, 2         | 1                 |              |                   |                             | 4                 |\n",
    "| 23   | 3, 2         | 1                 |              | 5                 |                             | 4                 |\n",
    "| 24.5 | 5, 3, 2      | 1                 |              |                   | 5                           | 4                 |\n",
    "| 25   | 5, 3, 2      | 1                 |              |                   | 5                           | 4, 6              |\n",
    "| 26   | 5, 3         | 2                 |              |                   | 5, 1                        | 4, 6              |\n",
    "| 30   | 5, 3         | 2                 |              |                   | 5, 1                        | 4, 6, 7           |\n",
    "| 35   | 5, 3         | 2                 |              |                   | 5, 1                        | 4, 6, 7, 8        |\n",
    "| 40   | 5, 3         | 2                 |              |                   | 5, 1                        | 4, 6, 7, 8, 9     |\n",
    "| 45   | 5, 3         | 2                 |              |                   | 5, 1                        | 4, 6, 7, 8, 9, 10 |\n",
    "| 46   | 5, 3         | 2                 |              | 11                | 5, 1                        | 4, 6, 7, 8, 9, 10 |\n",
    "| 47   | 5            | 3                 |              | 11                | 5, 1, 2                     | 4, 6, 7, 8, 9, 10 |\n",
    "| 47.5 | 11, 5        | 3                 |              |                   | 5, 1, 2, 11                 | 4, 6, 7, 8, 9, 10 |\n",
    "| 48   |              |                   |              |                   |                             |                   |"
   ]
  },
  {
   "cell_type": "markdown",
   "metadata": {},
   "source": [
    "### We would therefore expect the following results:"
   ]
  },
  {
   "cell_type": "code",
   "execution_count": 5,
   "metadata": {
    "collapsed": true
   },
   "outputs": [],
   "source": [
    "expected_baulking_dictionary = {1:{0:[20.0, 25.0, 30.0, 35.0, 40.0, 45.0]}, 2:{0:[]}}\n",
    "expected_ids_of_completed_customers = set([5, 1, 2, 11])\n",
    "expected_waits_of_completed_customers = set([0.0, 0.0, 0.0, 16])\n",
    "expected_arrival_dates_of_completed_customers = set([5.0, 10.0, 23.0, 46.0])\n",
    "expected_service_start_dates_of_completed_customers = set([5.0, 23.0, 26.0, 46.0])\n",
    "expected_service_end_dates_of_completed_customers = set([24.5, 26.0, 47.0, 47.5])"
   ]
  },
  {
   "cell_type": "markdown",
   "metadata": {},
   "source": [
    "### Let's check:"
   ]
  },
  {
   "cell_type": "code",
   "execution_count": 6,
   "metadata": {
    "collapsed": true
   },
   "outputs": [],
   "source": [
    "ciw.seed(0)\n",
    "Q = ciw.Simulation(N)"
   ]
  },
  {
   "cell_type": "code",
   "execution_count": 7,
   "metadata": {
    "collapsed": true
   },
   "outputs": [],
   "source": [
    "Q.simulate_until_max_time(48)\n",
    "recs = Q.get_all_records()"
   ]
  },
  {
   "cell_type": "code",
   "execution_count": 8,
   "metadata": {},
   "outputs": [
    {
     "data": {
      "text/plain": [
       "True"
      ]
     },
     "execution_count": 8,
     "metadata": {},
     "output_type": "execute_result"
    }
   ],
   "source": [
    "Q.baulked_dict == expected_baulking_dictionary"
   ]
  },
  {
   "cell_type": "code",
   "execution_count": 9,
   "metadata": {},
   "outputs": [
    {
     "data": {
      "text/plain": [
       "True"
      ]
     },
     "execution_count": 9,
     "metadata": {},
     "output_type": "execute_result"
    }
   ],
   "source": [
    "set([r.id_number for r in recs]) == expected_ids_of_completed_customers"
   ]
  },
  {
   "cell_type": "code",
   "execution_count": 10,
   "metadata": {},
   "outputs": [
    {
     "data": {
      "text/plain": [
       "True"
      ]
     },
     "execution_count": 10,
     "metadata": {},
     "output_type": "execute_result"
    }
   ],
   "source": [
    "set([r.waiting_time for r in recs]) == expected_waits_of_completed_customers"
   ]
  },
  {
   "cell_type": "code",
   "execution_count": 11,
   "metadata": {},
   "outputs": [
    {
     "data": {
      "text/plain": [
       "True"
      ]
     },
     "execution_count": 11,
     "metadata": {},
     "output_type": "execute_result"
    }
   ],
   "source": [
    "set([r.arrival_date for r in recs]) == expected_arrival_dates_of_completed_customers"
   ]
  },
  {
   "cell_type": "code",
   "execution_count": 12,
   "metadata": {},
   "outputs": [
    {
     "data": {
      "text/plain": [
       "True"
      ]
     },
     "execution_count": 12,
     "metadata": {},
     "output_type": "execute_result"
    }
   ],
   "source": [
    "set([r.service_start_date for r in recs]) == expected_service_start_dates_of_completed_customers"
   ]
  },
  {
   "cell_type": "code",
   "execution_count": 13,
   "metadata": {},
   "outputs": [
    {
     "data": {
      "text/plain": [
       "True"
      ]
     },
     "execution_count": 13,
     "metadata": {},
     "output_type": "execute_result"
    }
   ],
   "source": [
    "set([r.service_end_date for r in recs]) == expected_service_end_dates_of_completed_customers"
   ]
  },
  {
   "cell_type": "code",
   "execution_count": null,
   "metadata": {
    "collapsed": true
   },
   "outputs": [],
   "source": []
  }
 ],
 "metadata": {
  "kernelspec": {
   "display_name": "Python 3",
   "language": "python",
   "name": "python3"
  },
  "language_info": {
   "codemirror_mode": {
    "name": "ipython",
    "version": 3
   },
   "file_extension": ".py",
   "mimetype": "text/x-python",
   "name": "python",
   "nbconvert_exporter": "python",
   "pygments_lexer": "ipython3",
   "version": "3.6.4"
  }
 },
 "nbformat": 4,
 "nbformat_minor": 1
}
