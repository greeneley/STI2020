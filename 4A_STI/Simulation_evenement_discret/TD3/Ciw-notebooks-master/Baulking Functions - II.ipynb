{
 "cells": [
  {
   "cell_type": "markdown",
   "metadata": {},
   "source": [
    "# Baulking Functions - II"
   ]
  },
  {
   "cell_type": "markdown",
   "metadata": {},
   "source": [
    "### This example is more involved that Baulking Functions - I, and shows the flexibility of the baulking functions functionality"
   ]
  },
  {
   "cell_type": "code",
   "execution_count": 1,
   "metadata": {
    "collapsed": true
   },
   "outputs": [],
   "source": [
    "import ciw\n",
    "import math"
   ]
  },
  {
   "cell_type": "code",
   "execution_count": 2,
   "metadata": {
    "collapsed": true
   },
   "outputs": [],
   "source": [
    "assert ciw.__version__ == '1.1.5'"
   ]
  },
  {
   "cell_type": "code",
   "execution_count": 3,
   "metadata": {
    "collapsed": true
   },
   "outputs": [],
   "source": [
    "def baulking_function_A(n):\n",
    "    if n < 3:\n",
    "        return 0.0\n",
    "    if n < 7:\n",
    "        return 0.5\n",
    "    if n < 11:\n",
    "        return 1.0"
   ]
  },
  {
   "cell_type": "code",
   "execution_count": 4,
   "metadata": {
    "collapsed": true
   },
   "outputs": [],
   "source": [
    "def baulking_function_B(n):\n",
    "    return 1.0 - (1.0 / (n + 1))"
   ]
  },
  {
   "cell_type": "code",
   "execution_count": 5,
   "metadata": {
    "collapsed": true
   },
   "outputs": [],
   "source": [
    "def baulking_function_C(n):\n",
    "    if n < 10:\n",
    "        return math.exp(-n)\n",
    "    return 0.0"
   ]
  },
  {
   "cell_type": "markdown",
   "metadata": {},
   "source": [
    "### Baulking functions can be as complicated as you like, as long as they take in a positive integer (number of customers at the node), and return a probability (a float between 0.0 and 1.0).\n",
    "### This example will show how different baulking functions can be assigned to different node - customer class pairs. We will even combine baulking with queueing capacities. Networks can be as complicated as you like... we could even have added priorities too, but let's stick with baulking and queue capacities for now."
   ]
  },
  {
   "cell_type": "code",
   "execution_count": 6,
   "metadata": {},
   "outputs": [],
   "source": [
    "N = ciw.create_network(\n",
    "    Arrival_distributions={'Class 0': [['Exponential', 8.0], ['Exponential', 4.0]],\n",
    "                           'Class 1': [['Exponential', 6.0], ['Exponential', 5.0]]},\n",
    "    Service_distributions={'Class 0': [['Exponential', 10.0], ['Exponential', 7.0]],\n",
    "                           'Class 1': [['Exponential', 6.0], ['Exponential', 4.0]]},\n",
    "    Transition_matrices={'Class 0': [[0.0, 0.3], [0.3, 0.3]],\n",
    "                         'Class 1': [[0.2, 0.1], [0.0, 0.2]]},\n",
    "    Number_of_servers=[2, 2],\n",
    "    Baulking_functions={'Class 0': [baulking_function_A, None],\n",
    "                        'Class 1': [baulking_function_B, baulking_function_C]}\n",
    ")"
   ]
  },
  {
   "cell_type": "code",
   "execution_count": 7,
   "metadata": {},
   "outputs": [],
   "source": [
    "ciw.seed(0)\n",
    "Q = ciw.Simulation(N)"
   ]
  },
  {
   "cell_type": "code",
   "execution_count": 8,
   "metadata": {},
   "outputs": [],
   "source": [
    "Q.simulate_until_max_time(100)"
   ]
  },
  {
   "cell_type": "code",
   "execution_count": 9,
   "metadata": {},
   "outputs": [
    {
     "data": {
      "text/plain": [
       "0.006737946999085467"
      ]
     },
     "execution_count": 9,
     "metadata": {},
     "output_type": "execute_result"
    }
   ],
   "source": [
    "math.exp(-5)"
   ]
  },
  {
   "cell_type": "code",
   "execution_count": null,
   "metadata": {
    "collapsed": true
   },
   "outputs": [],
   "source": []
  },
  {
   "cell_type": "code",
   "execution_count": null,
   "metadata": {
    "collapsed": true
   },
   "outputs": [],
   "source": []
  }
 ],
 "metadata": {
  "kernelspec": {
   "display_name": "Python 3",
   "language": "python",
   "name": "python3"
  },
  "language_info": {
   "codemirror_mode": {
    "name": "ipython",
    "version": 3
   },
   "file_extension": ".py",
   "mimetype": "text/x-python",
   "name": "python",
   "nbconvert_exporter": "python",
   "pygments_lexer": "ipython3",
   "version": "3.5.1"
  }
 },
 "nbformat": 4,
 "nbformat_minor": 1
}
