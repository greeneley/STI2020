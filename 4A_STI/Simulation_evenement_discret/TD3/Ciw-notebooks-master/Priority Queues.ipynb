{
 "cells": [
  {
   "cell_type": "markdown",
   "metadata": {},
   "source": [
    "# Priority Queues"
   ]
  },
  {
   "cell_type": "markdown",
   "metadata": {},
   "source": [
    "### Import Ciw"
   ]
  },
  {
   "cell_type": "code",
   "execution_count": 1,
   "metadata": {},
   "outputs": [],
   "source": [
    "import ciw\n",
    "from random import seed\n",
    "from numpy import mean, random"
   ]
  },
  {
   "cell_type": "code",
   "execution_count": 2,
   "metadata": {
    "collapsed": true
   },
   "outputs": [],
   "source": [
    "assert ciw.__version__ == '1.1.5'"
   ]
  },
  {
   "cell_type": "markdown",
   "metadata": {},
   "source": [
    "### We will simulate an M/M/1 queue with two priority classes. The two classes will have the same service rate (1.0) but different arrival rates (0.2 and 0.6 respectively). The first class will have higher priority than the second. Let's build the network:"
   ]
  },
  {
   "cell_type": "code",
   "execution_count": 3,
   "metadata": {},
   "outputs": [],
   "source": [
    "N = ciw.create_network(\n",
    "       Arrival_distributions={'Class 0': [['Exponential', 0.2]],\n",
    "                              'Class 1': [['Exponential', 0.6]]},\n",
    "       Service_distributions={'Class 0': [['Exponential', 1.0]],\n",
    "                              'Class 1': [['Exponential', 1.0]]},\n",
    "       Transition_matrices={'Class 0': [[0.0]],\n",
    "                            'Class 1': [[0.0]]},\n",
    "       Number_of_servers=[1],\n",
    "       Priority_classes={'Class 0': 0,\n",
    "                         'Class 1': 1}\n",
    "\n",
    ")"
   ]
  },
  {
   "cell_type": "markdown",
   "metadata": {},
   "source": [
    "### This corresponds to Example 4.3 in http://www.win.tue.nl/~iadan/que/h4.pdf, we shall compare the results obtained analytically to the results obtained using Ciw. Analytically we expect the average time in the system for those in Class 0 to be 2.0, and for those in Class 1 to be 6.0."
   ]
  },
  {
   "cell_type": "markdown",
   "metadata": {},
   "source": [
    "### We shall run 150 trials, running each trial for a maximum time of 500, and a warm-up time of 100 will be used."
   ]
  },
  {
   "cell_type": "code",
   "execution_count": 4,
   "metadata": {
    "collapsed": true
   },
   "outputs": [],
   "source": [
    "throughput_class0 = []\n",
    "throughput_class1 = []"
   ]
  },
  {
   "cell_type": "code",
   "execution_count": 5,
   "metadata": {
    "collapsed": true
   },
   "outputs": [],
   "source": [
    "random.seed(20)\n",
    "seed(20)"
   ]
  },
  {
   "cell_type": "code",
   "execution_count": 6,
   "metadata": {},
   "outputs": [],
   "source": [
    "ciw.seed(0)\n",
    "for iteration in range(150):\n",
    "    Q = ciw.Simulation(N)\n",
    "    Q.simulate_until_max_time(500)\n",
    "    recs = Q.get_all_records()\n",
    "    throughput_class0.append(mean([r.waiting_time + r.service_time for r in recs if r.customer_class==0 if r.arrival_date > 100]))\n",
    "    throughput_class1.append(mean([r.waiting_time + r.service_time for r in recs if r.customer_class==1 if r.arrival_date > 100]))"
   ]
  },
  {
   "cell_type": "code",
   "execution_count": 7,
   "metadata": {},
   "outputs": [
    {
     "name": "stdout",
     "output_type": "stream",
     "text": [
      "1.96525116807\n"
     ]
    }
   ],
   "source": [
    "print(mean(throughput_class0))"
   ]
  },
  {
   "cell_type": "code",
   "execution_count": 8,
   "metadata": {},
   "outputs": [
    {
     "name": "stdout",
     "output_type": "stream",
     "text": [
      "5.99149664971\n"
     ]
    }
   ],
   "source": [
    "print(mean(throughput_class1))"
   ]
  },
  {
   "cell_type": "code",
   "execution_count": null,
   "metadata": {
    "collapsed": true
   },
   "outputs": [],
   "source": []
  }
 ],
 "metadata": {
  "kernelspec": {
   "display_name": "Python 3",
   "language": "python",
   "name": "python3"
  },
  "language_info": {
   "codemirror_mode": {
    "name": "ipython",
    "version": 3
   },
   "file_extension": ".py",
   "mimetype": "text/x-python",
   "name": "python",
   "nbconvert_exporter": "python",
   "pygments_lexer": "ipython3",
   "version": "3.5.1"
  }
 },
 "nbformat": 4,
 "nbformat_minor": 1
}
