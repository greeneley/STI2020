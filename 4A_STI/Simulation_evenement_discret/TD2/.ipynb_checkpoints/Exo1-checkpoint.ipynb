{
 "cells": [
  {
   "cell_type": "markdown",
   "metadata": {},
   "source": [
    "## Exo 1.1)\n",
    "### a)\n"
   ]
  },
  {
   "cell_type": "code",
   "execution_count": 41,
   "metadata": {},
   "outputs": [
    {
     "ename": "SyntaxError",
     "evalue": "invalid syntax (<ipython-input-41-7c5118234a86>, line 2)",
     "output_type": "error",
     "traceback": [
      "\u001b[1;36m  File \u001b[1;32m\"<ipython-input-41-7c5118234a86>\"\u001b[1;36m, line \u001b[1;32m2\u001b[0m\n\u001b[1;33m    def _init_(self, int x_0, int a, int c, int m, int N):\u001b[0m\n\u001b[1;37m                           ^\u001b[0m\n\u001b[1;31mSyntaxError\u001b[0m\u001b[1;31m:\u001b[0m invalid syntax\n"
     ]
    }
   ],
   "source": [
    "class congruences_linaire:\n",
    "    def __init__(self, x_0, a, c, m, N):\n",
    "        self.x_0 = x_0\n",
    "        self.a = a\n",
    "        self.c = c\n",
    "        self.m = m\n",
    "        self.N = N \n",
    "        \n",
    "    def entier_aleatoire(self):\n",
    "        print(\"hello\")\n",
    "#          X = []\n",
    "#          X.append(self.x_0)\n",
    "#          for n in range(1,self.N):\n",
    "#             X.append((self.a*X[n-1] + self.c) % self.m)\n",
    "#          return X"
   ]
  },
  {
   "cell_type": "code",
   "execution_count": 42,
   "metadata": {},
   "outputs": [
    {
     "ename": "TypeError",
     "evalue": "object() takes no parameters",
     "output_type": "error",
     "traceback": [
      "\u001b[1;31m---------------------------------------------------------------------------\u001b[0m",
      "\u001b[1;31mTypeError\u001b[0m                                 Traceback (most recent call last)",
      "\u001b[1;32m<ipython-input-42-193837fe4770>\u001b[0m in \u001b[0;36m<module>\u001b[1;34m()\u001b[0m\n\u001b[1;32m----> 1\u001b[1;33m \u001b[0mcas_1\u001b[0m \u001b[1;33m=\u001b[0m \u001b[0mcongruences_linaire\u001b[0m\u001b[1;33m(\u001b[0m\u001b[1;36m3\u001b[0m\u001b[1;33m,\u001b[0m \u001b[1;36m5\u001b[0m\u001b[1;33m,\u001b[0m \u001b[1;36m3\u001b[0m\u001b[1;33m,\u001b[0m \u001b[1;36m16\u001b[0m\u001b[1;33m,\u001b[0m \u001b[1;36m16\u001b[0m\u001b[1;33m)\u001b[0m\u001b[1;33m\u001b[0m\u001b[0m\n\u001b[0m",
      "\u001b[1;31mTypeError\u001b[0m: object() takes no parameters"
     ]
    }
   ],
   "source": [
    "cas_1 = congruences_linaire(3, 5, 3, 16, 16)\n"
   ]
  },
  {
   "cell_type": "code",
   "execution_count": 31,
   "metadata": {},
   "outputs": [
    {
     "data": {
      "text/plain": [
       "[1,\n",
       " 3,\n",
       " 2,\n",
       " 6,\n",
       " 4,\n",
       " 5,\n",
       " 1,\n",
       " 3,\n",
       " 2,\n",
       " 6,\n",
       " 4,\n",
       " 5,\n",
       " 1,\n",
       " 3,\n",
       " 2,\n",
       " 6,\n",
       " 4,\n",
       " 5,\n",
       " 1,\n",
       " 3,\n",
       " 2,\n",
       " 6,\n",
       " 4,\n",
       " 5,\n",
       " 1,\n",
       " 3,\n",
       " 2,\n",
       " 6,\n",
       " 4,\n",
       " 5,\n",
       " 1,\n",
       " 3,\n",
       " 2,\n",
       " 6,\n",
       " 4,\n",
       " 5,\n",
       " 1,\n",
       " 3,\n",
       " 2,\n",
       " 6,\n",
       " 4,\n",
       " 5,\n",
       " 1,\n",
       " 3,\n",
       " 2,\n",
       " 6,\n",
       " 4,\n",
       " 5,\n",
       " 1,\n",
       " 3,\n",
       " 2,\n",
       " 6,\n",
       " 4,\n",
       " 5,\n",
       " 1,\n",
       " 3,\n",
       " 2,\n",
       " 6,\n",
       " 4,\n",
       " 5,\n",
       " 1,\n",
       " 3,\n",
       " 2,\n",
       " 6,\n",
       " 4,\n",
       " 5,\n",
       " 1,\n",
       " 3,\n",
       " 2,\n",
       " 6,\n",
       " 4,\n",
       " 5,\n",
       " 1,\n",
       " 3,\n",
       " 2,\n",
       " 6,\n",
       " 4,\n",
       " 5,\n",
       " 1,\n",
       " 3,\n",
       " 2,\n",
       " 6,\n",
       " 4,\n",
       " 5,\n",
       " 1,\n",
       " 3,\n",
       " 2,\n",
       " 6,\n",
       " 4,\n",
       " 5,\n",
       " 1,\n",
       " 3,\n",
       " 2,\n",
       " 6,\n",
       " 4,\n",
       " 5,\n",
       " 1,\n",
       " 3,\n",
       " 2,\n",
       " 6]"
      ]
     },
     "execution_count": 31,
     "metadata": {},
     "output_type": "execute_result"
    }
   ],
   "source": [
    "cas_2 = congruences_linaire(1, 3, 0, 7, 100)\n",
    "cas_2"
   ]
  },
  {
   "cell_type": "code",
   "execution_count": 32,
   "metadata": {},
   "outputs": [
    {
     "data": {
      "text/plain": [
       "[99,\n",
       " 1825,\n",
       " 796,\n",
       " 3100,\n",
       " 3856,\n",
       " 4477,\n",
       " 4774,\n",
       " 3100,\n",
       " 3856,\n",
       " 4477,\n",
       " 4774,\n",
       " 3100,\n",
       " 3856,\n",
       " 4477,\n",
       " 4774,\n",
       " 3100,\n",
       " 3856,\n",
       " 4477,\n",
       " 4774,\n",
       " 3100,\n",
       " 3856,\n",
       " 4477,\n",
       " 4774,\n",
       " 3100,\n",
       " 3856,\n",
       " 4477,\n",
       " 4774,\n",
       " 3100,\n",
       " 3856,\n",
       " 4477,\n",
       " 4774,\n",
       " 3100,\n",
       " 3856,\n",
       " 4477,\n",
       " 4774,\n",
       " 3100,\n",
       " 3856,\n",
       " 4477,\n",
       " 4774,\n",
       " 3100,\n",
       " 3856,\n",
       " 4477,\n",
       " 4774,\n",
       " 3100,\n",
       " 3856,\n",
       " 4477,\n",
       " 4774,\n",
       " 3100,\n",
       " 3856,\n",
       " 4477,\n",
       " 4774,\n",
       " 3100,\n",
       " 3856,\n",
       " 4477]"
      ]
     },
     "execution_count": 32,
     "metadata": {},
     "output_type": "execute_result"
    }
   ],
   "source": [
    "cas_3 = congruences_linaire( 99, 798, 394, 5967, 54)\n",
    "cas_3"
   ]
  },
  {
   "cell_type": "code",
   "execution_count": null,
   "metadata": {},
   "outputs": [],
   "source": []
  }
 ],
 "metadata": {
  "kernelspec": {
   "display_name": "Python 3",
   "language": "python",
   "name": "python3"
  },
  "language_info": {
   "codemirror_mode": {
    "name": "ipython",
    "version": 3
   },
   "file_extension": ".py",
   "mimetype": "text/x-python",
   "name": "python",
   "nbconvert_exporter": "python",
   "pygments_lexer": "ipython3",
   "version": "3.6.4"
  }
 },
 "nbformat": 4,
 "nbformat_minor": 2
}
