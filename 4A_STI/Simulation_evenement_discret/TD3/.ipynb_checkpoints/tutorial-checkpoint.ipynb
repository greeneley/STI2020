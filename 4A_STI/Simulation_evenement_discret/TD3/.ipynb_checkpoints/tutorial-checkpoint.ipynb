{
 "cells": [
  {
   "cell_type": "code",
   "execution_count": 1,
   "metadata": {},
   "outputs": [],
   "source": [
    "import ciw"
   ]
  },
  {
   "cell_type": "code",
   "execution_count": null,
   "metadata": {},
   "outputs": [],
   "source": []
  },
  {
   "cell_type": "code",
   "execution_count": 2,
   "metadata": {},
   "outputs": [],
   "source": [
    "N = ciw.create_network(\n",
    "    Arrival_distributions = [['Exponential', 0.2]],\n",
    "    Service_distributions = [['Exponential', 0.1]],\n",
    "    Number_of_servers=[3]\n",
    ")"
   ]
  },
  {
   "cell_type": "code",
   "execution_count": 3,
   "metadata": {},
   "outputs": [],
   "source": [
    "ciw.seed(1)"
   ]
  },
  {
   "cell_type": "code",
   "execution_count": 4,
   "metadata": {},
   "outputs": [],
   "source": [
    "Q = ciw.Simulation(N)"
   ]
  },
  {
   "cell_type": "code",
   "execution_count": 5,
   "metadata": {},
   "outputs": [],
   "source": [
    "Q.simulate_until_max_time(1440)"
   ]
  },
  {
   "cell_type": "code",
   "execution_count": 6,
   "metadata": {},
   "outputs": [
    {
     "data": {
      "text/plain": [
       "[Arrival Node, Node 1, Exit Node]"
      ]
     },
     "execution_count": 6,
     "metadata": {},
     "output_type": "execute_result"
    }
   ],
   "source": [
    "Q.nodes"
   ]
  },
  {
   "cell_type": "code",
   "execution_count": 7,
   "metadata": {},
   "outputs": [
    {
     "data": {
      "text/plain": [
       "[Individual 2,\n",
       " Individual 3,\n",
       " Individual 5,\n",
       " Individual 1,\n",
       " Individual 6,\n",
       " Individual 4,\n",
       " Individual 7,\n",
       " Individual 8,\n",
       " Individual 10,\n",
       " Individual 11,\n",
       " Individual 9,\n",
       " Individual 12,\n",
       " Individual 14,\n",
       " Individual 13,\n",
       " Individual 16,\n",
       " Individual 18,\n",
       " Individual 15,\n",
       " Individual 17,\n",
       " Individual 20,\n",
       " Individual 19,\n",
       " Individual 22,\n",
       " Individual 23,\n",
       " Individual 21,\n",
       " Individual 24,\n",
       " Individual 26,\n",
       " Individual 25,\n",
       " Individual 29,\n",
       " Individual 28,\n",
       " Individual 30,\n",
       " Individual 27,\n",
       " Individual 31,\n",
       " Individual 33,\n",
       " Individual 32,\n",
       " Individual 36,\n",
       " Individual 35,\n",
       " Individual 34,\n",
       " Individual 37,\n",
       " Individual 39,\n",
       " Individual 38,\n",
       " Individual 41,\n",
       " Individual 42,\n",
       " Individual 44,\n",
       " Individual 45,\n",
       " Individual 40,\n",
       " Individual 46,\n",
       " Individual 43,\n",
       " Individual 47,\n",
       " Individual 48,\n",
       " Individual 49,\n",
       " Individual 50,\n",
       " Individual 52,\n",
       " Individual 54,\n",
       " Individual 53,\n",
       " Individual 51,\n",
       " Individual 57,\n",
       " Individual 55,\n",
       " Individual 56,\n",
       " Individual 58,\n",
       " Individual 59,\n",
       " Individual 62,\n",
       " Individual 63,\n",
       " Individual 60,\n",
       " Individual 64,\n",
       " Individual 66,\n",
       " Individual 61,\n",
       " Individual 68,\n",
       " Individual 67,\n",
       " Individual 65,\n",
       " Individual 69,\n",
       " Individual 71,\n",
       " Individual 72,\n",
       " Individual 70,\n",
       " Individual 74,\n",
       " Individual 76,\n",
       " Individual 77,\n",
       " Individual 73,\n",
       " Individual 75,\n",
       " Individual 79,\n",
       " Individual 78,\n",
       " Individual 81,\n",
       " Individual 82,\n",
       " Individual 83,\n",
       " Individual 85,\n",
       " Individual 84,\n",
       " Individual 80,\n",
       " Individual 86,\n",
       " Individual 87,\n",
       " Individual 90,\n",
       " Individual 91,\n",
       " Individual 89,\n",
       " Individual 93,\n",
       " Individual 88,\n",
       " Individual 95,\n",
       " Individual 96,\n",
       " Individual 92,\n",
       " Individual 98,\n",
       " Individual 97,\n",
       " Individual 99,\n",
       " Individual 100,\n",
       " Individual 102,\n",
       " Individual 94,\n",
       " Individual 103,\n",
       " Individual 101,\n",
       " Individual 105,\n",
       " Individual 104,\n",
       " Individual 107,\n",
       " Individual 106,\n",
       " Individual 108,\n",
       " Individual 111,\n",
       " Individual 110,\n",
       " Individual 112,\n",
       " Individual 113,\n",
       " Individual 114,\n",
       " Individual 115,\n",
       " Individual 109,\n",
       " Individual 116,\n",
       " Individual 119,\n",
       " Individual 118,\n",
       " Individual 120,\n",
       " Individual 117,\n",
       " Individual 123,\n",
       " Individual 121,\n",
       " Individual 124,\n",
       " Individual 125,\n",
       " Individual 122,\n",
       " Individual 126,\n",
       " Individual 127,\n",
       " Individual 129,\n",
       " Individual 130,\n",
       " Individual 128,\n",
       " Individual 132,\n",
       " Individual 131,\n",
       " Individual 134,\n",
       " Individual 133,\n",
       " Individual 135,\n",
       " Individual 138,\n",
       " Individual 136,\n",
       " Individual 139,\n",
       " Individual 141,\n",
       " Individual 140,\n",
       " Individual 137,\n",
       " Individual 142,\n",
       " Individual 144,\n",
       " Individual 143,\n",
       " Individual 146,\n",
       " Individual 147,\n",
       " Individual 145,\n",
       " Individual 148,\n",
       " Individual 151,\n",
       " Individual 150,\n",
       " Individual 152,\n",
       " Individual 149,\n",
       " Individual 153,\n",
       " Individual 154,\n",
       " Individual 155,\n",
       " Individual 156,\n",
       " Individual 158,\n",
       " Individual 157,\n",
       " Individual 161,\n",
       " Individual 159,\n",
       " Individual 162,\n",
       " Individual 163,\n",
       " Individual 160,\n",
       " Individual 164,\n",
       " Individual 167,\n",
       " Individual 165,\n",
       " Individual 168,\n",
       " Individual 166,\n",
       " Individual 169,\n",
       " Individual 171,\n",
       " Individual 172,\n",
       " Individual 173,\n",
       " Individual 174,\n",
       " Individual 170,\n",
       " Individual 175,\n",
       " Individual 176,\n",
       " Individual 179,\n",
       " Individual 180,\n",
       " Individual 178,\n",
       " Individual 177,\n",
       " Individual 182,\n",
       " Individual 181,\n",
       " Individual 184,\n",
       " Individual 183,\n",
       " Individual 187,\n",
       " Individual 185,\n",
       " Individual 186,\n",
       " Individual 189,\n",
       " Individual 188,\n",
       " Individual 190,\n",
       " Individual 191,\n",
       " Individual 194,\n",
       " Individual 192,\n",
       " Individual 193,\n",
       " Individual 195,\n",
       " Individual 196,\n",
       " Individual 199,\n",
       " Individual 198,\n",
       " Individual 197,\n",
       " Individual 200,\n",
       " Individual 203,\n",
       " Individual 202,\n",
       " Individual 201,\n",
       " Individual 204,\n",
       " Individual 205,\n",
       " Individual 206,\n",
       " Individual 208,\n",
       " Individual 209,\n",
       " Individual 207,\n",
       " Individual 212,\n",
       " Individual 210,\n",
       " Individual 211,\n",
       " Individual 214,\n",
       " Individual 213,\n",
       " Individual 216,\n",
       " Individual 215,\n",
       " Individual 217,\n",
       " Individual 219,\n",
       " Individual 221,\n",
       " Individual 220,\n",
       " Individual 218,\n",
       " Individual 223,\n",
       " Individual 222,\n",
       " Individual 225,\n",
       " Individual 224,\n",
       " Individual 227,\n",
       " Individual 226,\n",
       " Individual 229,\n",
       " Individual 231,\n",
       " Individual 230,\n",
       " Individual 228,\n",
       " Individual 234,\n",
       " Individual 233,\n",
       " Individual 232,\n",
       " Individual 235,\n",
       " Individual 236,\n",
       " Individual 237,\n",
       " Individual 238,\n",
       " Individual 239,\n",
       " Individual 240,\n",
       " Individual 241,\n",
       " Individual 244,\n",
       " Individual 243,\n",
       " Individual 242,\n",
       " Individual 246,\n",
       " Individual 245,\n",
       " Individual 249,\n",
       " Individual 250,\n",
       " Individual 251,\n",
       " Individual 252,\n",
       " Individual 253,\n",
       " Individual 247,\n",
       " Individual 254,\n",
       " Individual 255,\n",
       " Individual 248,\n",
       " Individual 256,\n",
       " Individual 257,\n",
       " Individual 258,\n",
       " Individual 260,\n",
       " Individual 259,\n",
       " Individual 261,\n",
       " Individual 262,\n",
       " Individual 264,\n",
       " Individual 266,\n",
       " Individual 265,\n",
       " Individual 267,\n",
       " Individual 269,\n",
       " Individual 268,\n",
       " Individual 263,\n",
       " Individual 270,\n",
       " Individual 271,\n",
       " Individual 273,\n",
       " Individual 272]"
      ]
     },
     "execution_count": 7,
     "metadata": {},
     "output_type": "execute_result"
    }
   ],
   "source": [
    "Q.nodes[-1].all_individuals"
   ]
  },
  {
   "cell_type": "code",
   "execution_count": 8,
   "metadata": {},
   "outputs": [
    {
     "data": {
      "text/plain": [
       "[Individual 274]"
      ]
     },
     "execution_count": 8,
     "metadata": {},
     "output_type": "execute_result"
    }
   ],
   "source": [
    "Q.nodes[1].all_individuals"
   ]
  },
  {
   "cell_type": "code",
   "execution_count": 9,
   "metadata": {},
   "outputs": [],
   "source": [
    "ind = Q.nodes[-1].all_individuals[0]"
   ]
  },
  {
   "cell_type": "code",
   "execution_count": 10,
   "metadata": {},
   "outputs": [
    {
     "data": {
      "text/plain": [
       "Individual 2"
      ]
     },
     "execution_count": 10,
     "metadata": {},
     "output_type": "execute_result"
    }
   ],
   "source": [
    "ind"
   ]
  },
  {
   "cell_type": "code",
   "execution_count": 11,
   "metadata": {},
   "outputs": [
    {
     "data": {
      "text/plain": [
       "7.93629994728086"
      ]
     },
     "execution_count": 11,
     "metadata": {},
     "output_type": "execute_result"
    }
   ],
   "source": [
    "ind.data_records[0].arrival_date"
   ]
  },
  {
   "cell_type": "code",
   "execution_count": 12,
   "metadata": {},
   "outputs": [
    {
     "data": {
      "text/plain": [
       "0.0"
      ]
     },
     "execution_count": 12,
     "metadata": {},
     "output_type": "execute_result"
    }
   ],
   "source": [
    "ind.data_records[0].waiting_time"
   ]
  },
  {
   "cell_type": "code",
   "execution_count": 13,
   "metadata": {},
   "outputs": [],
   "source": [
    "recs = Q.get_all_records()"
   ]
  },
  {
   "cell_type": "code",
   "execution_count": 14,
   "metadata": {},
   "outputs": [],
   "source": [
    "servicetimes = [r.service_time for r in recs] "
   ]
  },
  {
   "cell_type": "code",
   "execution_count": 15,
   "metadata": {},
   "outputs": [
    {
     "data": {
      "text/plain": [
       "[2.944637168942629,\n",
       " 5.969120918679973,\n",
       " 0.2875702456884994,\n",
       " 18.801562654206254,\n",
       " 5.669852446334868,\n",
       " 15.545868722299598,\n",
       " 0.02108274200168836,\n",
       " 12.784809726425777,\n",
       " 0.3106762246306971,\n",
       " 7.796041064717961,\n",
       " 29.0535598273079,\n",
       " 4.799800085423129,\n",
       " 2.5063251747169915,\n",
       " 5.483831185108627,\n",
       " 2.6249077647307644,\n",
       " 0.21723971267175557,\n",
       " 6.848065433446521,\n",
       " 6.154520861989184,\n",
       " 2.0567976714564082,\n",
       " 8.129544896439867,\n",
       " 4.0450834399314886,\n",
       " 12.419923740844908,\n",
       " 19.65730992115769,\n",
       " 5.4836654848728585,\n",
       " 8.857145011350667,\n",
       " 11.095890123168289,\n",
       " 2.7804858854583188,\n",
       " 8.891675583758143,\n",
       " 5.349714680002506,\n",
       " 18.72085436799921,\n",
       " 7.958418336516843,\n",
       " 5.779659801558267,\n",
       " 11.22349286798115,\n",
       " 0.3002112198076077,\n",
       " 4.996468315499101,\n",
       " 15.070736485595063,\n",
       " 12.153104620383886,\n",
       " 1.867503858218356,\n",
       " 8.993936214581595,\n",
       " 7.756975013099577,\n",
       " 2.64194905550778,\n",
       " 6.145795268481123,\n",
       " 7.940649342855579,\n",
       " 40.2165025167846,\n",
       " 0.05725488824839431,\n",
       " 30.46339240744669,\n",
       " 17.175015890387897,\n",
       " 13.490117241820712,\n",
       " 7.31219383231803,\n",
       " 5.552838736932813,\n",
       " 2.2294284667815987,\n",
       " 4.2476707685253245,\n",
       " 6.6344297573983795,\n",
       " 20.40298948321208,\n",
       " 2.6085194925296378,\n",
       " 9.768092183165209,\n",
       " 6.127601631211576,\n",
       " 8.781784953022793,\n",
       " 16.01662919068383,\n",
       " 0.8690316953942556,\n",
       " 0.14667011597725832,\n",
       " 16.951993648723885,\n",
       " 2.8709454595050943,\n",
       " 0.7204973020550938,\n",
       " 18.43546563035079,\n",
       " 3.1871111486457266,\n",
       " 7.494644403708321,\n",
       " 9.803016166428847,\n",
       " 6.064221663185947,\n",
       " 4.886680994592041,\n",
       " 2.0830334485816024,\n",
       " 6.420188266978641,\n",
       " 2.3457235266306498,\n",
       " 0.18026017646468517,\n",
       " 12.688152748044615,\n",
       " 23.007717416700018,\n",
       " 16.98485916730374,\n",
       " 7.86803488637986,\n",
       " 12.194439606980382,\n",
       " 7.269098114360361,\n",
       " 10.455638270709699,\n",
       " 8.576585944147553,\n",
       " 3.5468542380849044,\n",
       " 9.968173475555204,\n",
       " 37.12947492324719,\n",
       " 20.83724655009354,\n",
       " 19.555573787891433,\n",
       " 0.085164244767725,\n",
       " 0.3865406555088384,\n",
       " 5.381493101543185,\n",
       " 1.8815907621822703,\n",
       " 28.01621024696118,\n",
       " 7.110540479439123,\n",
       " 4.2607231237041105,\n",
       " 32.75475943487936,\n",
       " 2.158187495256925,\n",
       " 11.213273766588827,\n",
       " 10.964871332474218,\n",
       " 6.927471050744202,\n",
       " 0.18258663135787856,\n",
       " 36.410511298763254,\n",
       " 3.971111573705741,\n",
       " 20.527724050552365,\n",
       " 2.3956489199406406,\n",
       " 15.264781208025852,\n",
       " 4.213655753733519,\n",
       " 18.18315398161485,\n",
       " 11.619041700756952,\n",
       " 1.859611422101807,\n",
       " 12.926771999951484,\n",
       " 2.3948661840980776,\n",
       " 9.168129435335572,\n",
       " 4.59036784573334,\n",
       " 3.4420344794182256,\n",
       " 42.34174364879766,\n",
       " 9.262969497405493,\n",
       " 0.3992427113295207,\n",
       " 8.011121383217983,\n",
       " 20.111726672192276,\n",
       " 21.827162760212218,\n",
       " 4.748789002314766,\n",
       " 17.632068320442272,\n",
       " 2.5323436371210164,\n",
       " 3.1023262629734063,\n",
       " 9.549952629258428,\n",
       " 8.311384080289372,\n",
       " 6.12063646809986,\n",
       " 0.12459036958045999,\n",
       " 0.9616197735905416,\n",
       " 15.46531958648734,\n",
       " 2.7395454737828686,\n",
       " 21.63345638219255,\n",
       " 1.8318205186726573,\n",
       " 5.464762687488587,\n",
       " 13.626028994143894,\n",
       " 3.4817344848960374,\n",
       " 24.164754207211672,\n",
       " 6.481931190658088,\n",
       " 0.10561730753863685,\n",
       " 10.556970610192707,\n",
       " 35.15398074405027,\n",
       " 3.5033772381571,\n",
       " 0.6503442012597134,\n",
       " 5.9755437638873445,\n",
       " 1.1806567448772967,\n",
       " 9.6182924841479,\n",
       " 35.003530816682655,\n",
       " 7.828819662658361,\n",
       " 2.82868603914892,\n",
       " 7.800180501404043,\n",
       " 3.295973359904906,\n",
       " 10.842196480407324,\n",
       " 5.940301479023219,\n",
       " 10.313258971457685,\n",
       " 4.950811397676489,\n",
       " 3.9636872793612383,\n",
       " 3.606963470559208,\n",
       " 18.78198568135258,\n",
       " 0.20584441848723145,\n",
       " 7.857569210356814,\n",
       " 0.7507655447815296,\n",
       " 0.7355652004320063,\n",
       " 9.062476825496901,\n",
       " 10.089053053902262,\n",
       " 6.9601044769315195,\n",
       " 15.711058530661376,\n",
       " 0.8024196264273087,\n",
       " 19.85215424020123,\n",
       " 1.9024338180335008,\n",
       " 3.8534488829836846,\n",
       " 7.222840689934515,\n",
       " 3.4741720700444603,\n",
       " 1.5277904248314371,\n",
       " 41.92787138370181,\n",
       " 0.3227523267446486,\n",
       " 23.33954856291507,\n",
       " 1.9620330270281556,\n",
       " 1.7185287763578572,\n",
       " 13.711491723013978,\n",
       " 23.768105627850787,\n",
       " 0.6658241470319126,\n",
       " 11.019540853123544,\n",
       " 7.795281787927024,\n",
       " 16.51576546116314,\n",
       " 0.24711328161242818,\n",
       " 6.038727751259557,\n",
       " 4.135010271336114,\n",
       " 0.6434827875855262,\n",
       " 5.390260136797451,\n",
       " 1.488296612037857,\n",
       " 2.9990711998567576,\n",
       " 0.07505267231499602,\n",
       " 5.071612010794183,\n",
       " 9.47897306077084,\n",
       " 6.949480402492554,\n",
       " 5.768175661940404,\n",
       " 2.54972362565195,\n",
       " 6.833399306671481,\n",
       " 13.146137151384664,\n",
       " 8.2190696853379,\n",
       " 0.7424024514682515,\n",
       " 10.396318666808838,\n",
       " 24.974641725334095,\n",
       " 20.990246772694263,\n",
       " 14.525532254013797,\n",
       " 3.736787380138594,\n",
       " 12.082575136225614,\n",
       " 9.028262976738006,\n",
       " 18.90416652415729,\n",
       " 2.8847626624337863,\n",
       " 22.69192591653882,\n",
       " 8.468409179755554,\n",
       " 0.5354131523317847,\n",
       " 8.428482569666357,\n",
       " 7.237214550632416,\n",
       " 12.62850094708756,\n",
       " 13.08948766108142,\n",
       " 9.900678025798697,\n",
       " 1.49807311447762,\n",
       " 24.40272424925388,\n",
       " 39.75019151206834,\n",
       " 12.05332950294337,\n",
       " 18.447227375210332,\n",
       " 4.818386886017834,\n",
       " 25.810801968356373,\n",
       " 3.937350898443583,\n",
       " 5.672576980083022,\n",
       " 1.269096305693438,\n",
       " 3.5023219283475555,\n",
       " 5.2462725919044715,\n",
       " 23.956301989458552,\n",
       " 0.2125905391831111,\n",
       " 2.1052192019278664,\n",
       " 13.846030369742948,\n",
       " 9.304594826734728,\n",
       " 2.3143510100840103,\n",
       " 7.816274848102466,\n",
       " 8.812568564095727,\n",
       " 11.505178312390854,\n",
       " 16.53675212496296,\n",
       " 7.882867833302726,\n",
       " 3.3414137920810845,\n",
       " 8.452374530547331,\n",
       " 19.35844872918028,\n",
       " 13.754146986174646,\n",
       " 16.479141675061328,\n",
       " 6.93890404346098,\n",
       " 3.7287903439741967,\n",
       " 4.413287338117925,\n",
       " 0.0084507492413195,\n",
       " 5.970230479946167,\n",
       " 33.508464015236086,\n",
       " 5.098306981961969,\n",
       " 11.501568271289216,\n",
       " 36.313574127520724,\n",
       " 10.431820524868272,\n",
       " 2.2804812212848447,\n",
       " 3.252056953760757,\n",
       " 7.153114183214484,\n",
       " 21.342182271573165,\n",
       " 6.1911816299555085,\n",
       " 5.258806191009171,\n",
       " 1.8670654708266738,\n",
       " 0.03525449196649788,\n",
       " 7.570590828620425,\n",
       " 5.54898507997882,\n",
       " 13.236230538409927,\n",
       " 19.75047717756297,\n",
       " 43.89388968075946,\n",
       " 13.814002113334482,\n",
       " 13.6950938151017,\n",
       " 5.225591514673397,\n",
       " 10.462440610189105]"
      ]
     },
     "execution_count": 15,
     "metadata": {},
     "output_type": "execute_result"
    }
   ],
   "source": [
    "servicetimes"
   ]
  },
  {
   "cell_type": "code",
   "execution_count": 16,
   "metadata": {},
   "outputs": [],
   "source": [
    "mean_service_time = sum(servicetimes) / len(servicetimes)"
   ]
  },
  {
   "cell_type": "code",
   "execution_count": 17,
   "metadata": {},
   "outputs": [
    {
     "data": {
      "text/plain": [
       "9.543928837703545"
      ]
     },
     "execution_count": 17,
     "metadata": {},
     "output_type": "execute_result"
    }
   ],
   "source": [
    "mean_service_time"
   ]
  },
  {
   "cell_type": "code",
   "execution_count": 18,
   "metadata": {},
   "outputs": [
    {
     "data": {
      "text/plain": [
       "(array([91., 73., 43., 21., 21.,  9.,  3.,  3.,  4.,  5.]),\n",
       " array([8.45074924e-03, 4.39699464e+00, 8.78553854e+00, 1.31740824e+01,\n",
       "        1.75626263e+01, 2.19511702e+01, 2.63397141e+01, 3.07282580e+01,\n",
       "        3.51168019e+01, 3.95053458e+01, 4.38938897e+01]),\n",
       " <a list of 10 Patch objects>)"
      ]
     },
     "execution_count": 18,
     "metadata": {},
     "output_type": "execute_result"
    }
   ],
   "source": [
    "import matplotlib.pyplot as plt\n",
    "plt.hist(servicetimes)"
   ]
  },
  {
   "cell_type": "code",
   "execution_count": 19,
   "metadata": {},
   "outputs": [],
   "source": [
    "plt.show()"
   ]
  },
  {
   "cell_type": "code",
   "execution_count": 20,
   "metadata": {},
   "outputs": [],
   "source": [
    "N = ciw.create_network(\n",
    "    Arrival_distributions=[['Exponential', 0.3],\n",
    "                          ['Exponential', 0.2],\n",
    "                          'NoArrivals'],\n",
    "    Service_distributions=[['Exponential', 1.0],\n",
    "                          ['Exponential', 0.4],\n",
    "                          ['Exponential', 0.5]],\n",
    "    Transition_matrices=[[0.0, 0.3, 0.7],\n",
    "                        [0.0, 0.0, 1.0],\n",
    "                        [0.0, 0.0, 0.0]],\n",
    "    Number_of_servers=[1, 2, 2]\n",
    ")"
   ]
  },
  {
   "cell_type": "code",
   "execution_count": 24,
   "metadata": {},
   "outputs": [],
   "source": [
    "completed_custs = []"
   ]
  },
  {
   "cell_type": "code",
   "execution_count": null,
   "metadata": {},
   "outputs": [],
   "source": []
  },
  {
   "cell_type": "code",
   "execution_count": 27,
   "metadata": {},
   "outputs": [],
   "source": [
    "for trial in range(10):\n",
    "    ciw.seed(trial)\n",
    "    Q = ciw.Simulation(N)\n",
    "    Q.simulate_until_max_time(200)\n",
    "    recs = Q.get_all_records()\n",
    "    num_completed = len([r for r in recs if r.node==3 and r.arrival_date < 180])\n",
    "    completed_custs.append(num_completed)"
   ]
  },
  {
   "cell_type": "code",
   "execution_count": 28,
   "metadata": {},
   "outputs": [
    {
     "data": {
      "text/plain": [
       "83.0"
      ]
     },
     "execution_count": 28,
     "metadata": {},
     "output_type": "execute_result"
    }
   ],
   "source": [
    "sum(completed_custs) / len(completed_custs)"
   ]
  },
  {
   "cell_type": "code",
   "execution_count": null,
   "metadata": {},
   "outputs": [],
   "source": [
    "N = ciw.create_network(\n",
    "     Arrival_distributions={'Class 0': [['Exponential', 1.0],\n",
    "                                       'NoArrivals',\n",
    "                                       'NoArrivals'],\n",
    "                            'Class 1': [['Exponential', 2.0],\n",
    "                                        'NoArrivals',\n",
    "                                        'NoArrivals']},\n",
    "    Service_distributions={'Class 0': [['Exponential', 4.0],\n",
    "                                      ['Exponential', 1.0],\n",
    "                                      ['Deterministic', 0.0]],\n",
    "                          'Class 1': [['Exponential', 6.0],\n",
    "                                      ['Deterministic', 0.0].\n",
    "                                      ['Exponential', 1.0]]},\n",
    "    Transition_matrices={'Class 0': [[0.0, 1.0, 0.0],\n",
    "                                      [0.0, 0.0, 0.0],\n",
    "                                      [0.0, 0.0, 0.0]],\n",
    "                          'Class 1': [[0.0, 0.0, 1.0],\n",
    "                                      [0.0, 0.0, 0.0],\n",
    "                                      [0.0, 0.0, 0.0]]},\n",
    ")"
   ]
  },
  {
   "cell_type": "code",
   "execution_count": null,
   "metadata": {},
   "outputs": [],
   "source": []
  },
  {
   "cell_type": "code",
   "execution_count": null,
   "metadata": {},
   "outputs": [],
   "source": []
  },
  {
   "cell_type": "code",
   "execution_count": null,
   "metadata": {},
   "outputs": [],
   "source": []
  },
  {
   "cell_type": "code",
   "execution_count": null,
   "metadata": {},
   "outputs": [],
   "source": []
  },
  {
   "cell_type": "code",
   "execution_count": null,
   "metadata": {},
   "outputs": [],
   "source": []
  },
  {
   "cell_type": "code",
   "execution_count": null,
   "metadata": {},
   "outputs": [],
   "source": []
  },
  {
   "cell_type": "code",
   "execution_count": null,
   "metadata": {},
   "outputs": [],
   "source": []
  },
  {
   "cell_type": "code",
   "execution_count": null,
   "metadata": {},
   "outputs": [],
   "source": []
  },
  {
   "cell_type": "code",
   "execution_count": null,
   "metadata": {},
   "outputs": [],
   "source": []
  }
 ],
 "metadata": {
  "kernelspec": {
   "display_name": "Python 3",
   "language": "python",
   "name": "python3"
  },
  "language_info": {
   "codemirror_mode": {
    "name": "ipython",
    "version": 3
   },
   "file_extension": ".py",
   "mimetype": "text/x-python",
   "name": "python",
   "nbconvert_exporter": "python",
   "pygments_lexer": "ipython3",
   "version": "3.6.4"
  }
 },
 "nbformat": 4,
 "nbformat_minor": 2
}
