{
 "cells": [
  {
   "cell_type": "code",
   "execution_count": 3,
   "metadata": {},
   "outputs": [],
   "source": [
    "import numpy as np"
   ]
  },
  {
   "cell_type": "code",
   "execution_count": 6,
   "metadata": {},
   "outputs": [],
   "source": [
    "class loi_uniform:\n",
    "    def distribution(self, a, b):\n",
    "    # Loi uniform U(0,1)\n",
    "    # fonction de distribution: np.random.uniform(low,High,size)\n",
    "    # Low = Limite inférieure de l'intervalle de sortie\n",
    "    # High = Limite superieur de l'intervalle de sortie\n",
    "    # Size = Output shape. Par ex: size = N (integer) => la sortie est array[N]. Ou size = (m,n) => La sortie est une matrix (m x n)\n",
    "        s = np.random.uniform(a,b,None)\n",
    "    def densite(self, x, a, b):\n",
    "            if (x >=a && x <=b):\n",
    "                return 1/(b-a)\n",
    "            else:\n",
    "                return 0\n",
    "    \n",
    "    "
   ]
  },
  {
   "cell_type": "code",
   "execution_count": null,
   "metadata": {},
   "outputs": [],
   "source": []
  }
 ],
 "metadata": {
  "kernelspec": {
   "display_name": "Python 3",
   "language": "python",
   "name": "python3"
  },
  "language_info": {
   "codemirror_mode": {
    "name": "ipython",
    "version": 3
   },
   "file_extension": ".py",
   "mimetype": "text/x-python",
   "name": "python",
   "nbconvert_exporter": "python",
   "pygments_lexer": "ipython3",
   "version": "3.6.4"
  }
 },
 "nbformat": 4,
 "nbformat_minor": 2
}
